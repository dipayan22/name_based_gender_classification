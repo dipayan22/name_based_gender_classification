{
 "cells": [
  {
   "cell_type": "code",
   "execution_count": 2,
   "id": "5c53a426",
   "metadata": {},
   "outputs": [],
   "source": [
    "import pandas as pd\n",
    "import numpy as np\n",
    "import matplotlib.pyplot as plt\n",
    "import seaborn as sns"
   ]
  },
  {
   "cell_type": "code",
   "execution_count": 148,
   "id": "fedf65a6",
   "metadata": {},
   "outputs": [],
   "source": [
    "df=pd.read_csv('name_gender.csv')"
   ]
  },
  {
   "cell_type": "code",
   "execution_count": 149,
   "id": "3b60ee53",
   "metadata": {},
   "outputs": [
    {
     "data": {
      "text/html": [
       "<div>\n",
       "<style scoped>\n",
       "    .dataframe tbody tr th:only-of-type {\n",
       "        vertical-align: middle;\n",
       "    }\n",
       "\n",
       "    .dataframe tbody tr th {\n",
       "        vertical-align: top;\n",
       "    }\n",
       "\n",
       "    .dataframe thead th {\n",
       "        text-align: right;\n",
       "    }\n",
       "</style>\n",
       "<table border=\"1\" class=\"dataframe\">\n",
       "  <thead>\n",
       "    <tr style=\"text-align: right;\">\n",
       "      <th></th>\n",
       "      <th>index</th>\n",
       "      <th>name</th>\n",
       "      <th>gender</th>\n",
       "      <th>probability</th>\n",
       "    </tr>\n",
       "  </thead>\n",
       "  <tbody>\n",
       "    <tr>\n",
       "      <th>0</th>\n",
       "      <td>0</td>\n",
       "      <td>Aaban</td>\n",
       "      <td>M</td>\n",
       "      <td>1.0</td>\n",
       "    </tr>\n",
       "    <tr>\n",
       "      <th>1</th>\n",
       "      <td>1</td>\n",
       "      <td>Aabha</td>\n",
       "      <td>F</td>\n",
       "      <td>1.0</td>\n",
       "    </tr>\n",
       "    <tr>\n",
       "      <th>2</th>\n",
       "      <td>2</td>\n",
       "      <td>Aabid</td>\n",
       "      <td>M</td>\n",
       "      <td>1.0</td>\n",
       "    </tr>\n",
       "    <tr>\n",
       "      <th>3</th>\n",
       "      <td>3</td>\n",
       "      <td>Aabriella</td>\n",
       "      <td>F</td>\n",
       "      <td>1.0</td>\n",
       "    </tr>\n",
       "    <tr>\n",
       "      <th>4</th>\n",
       "      <td>4</td>\n",
       "      <td>Aada</td>\n",
       "      <td>F</td>\n",
       "      <td>1.0</td>\n",
       "    </tr>\n",
       "    <tr>\n",
       "      <th>...</th>\n",
       "      <td>...</td>\n",
       "      <td>...</td>\n",
       "      <td>...</td>\n",
       "      <td>...</td>\n",
       "    </tr>\n",
       "    <tr>\n",
       "      <th>95021</th>\n",
       "      <td>95021</td>\n",
       "      <td>Zyvon</td>\n",
       "      <td>M</td>\n",
       "      <td>1.0</td>\n",
       "    </tr>\n",
       "    <tr>\n",
       "      <th>95022</th>\n",
       "      <td>95022</td>\n",
       "      <td>Zyyanna</td>\n",
       "      <td>F</td>\n",
       "      <td>1.0</td>\n",
       "    </tr>\n",
       "    <tr>\n",
       "      <th>95023</th>\n",
       "      <td>95023</td>\n",
       "      <td>Zyyon</td>\n",
       "      <td>M</td>\n",
       "      <td>1.0</td>\n",
       "    </tr>\n",
       "    <tr>\n",
       "      <th>95024</th>\n",
       "      <td>95024</td>\n",
       "      <td>Zzyzx</td>\n",
       "      <td>M</td>\n",
       "      <td>1.0</td>\n",
       "    </tr>\n",
       "    <tr>\n",
       "      <th>95025</th>\n",
       "      <td>95025</td>\n",
       "      <td>undefined</td>\n",
       "      <td>F</td>\n",
       "      <td>NaN</td>\n",
       "    </tr>\n",
       "  </tbody>\n",
       "</table>\n",
       "<p>95026 rows × 4 columns</p>\n",
       "</div>"
      ],
      "text/plain": [
       "       index       name gender  probability\n",
       "0          0      Aaban      M          1.0\n",
       "1          1      Aabha      F          1.0\n",
       "2          2      Aabid      M          1.0\n",
       "3          3  Aabriella      F          1.0\n",
       "4          4       Aada      F          1.0\n",
       "...      ...        ...    ...          ...\n",
       "95021  95021      Zyvon      M          1.0\n",
       "95022  95022    Zyyanna      F          1.0\n",
       "95023  95023      Zyyon      M          1.0\n",
       "95024  95024      Zzyzx      M          1.0\n",
       "95025  95025  undefined      F          NaN\n",
       "\n",
       "[95026 rows x 4 columns]"
      ]
     },
     "execution_count": 149,
     "metadata": {},
     "output_type": "execute_result"
    }
   ],
   "source": [
    "df"
   ]
  },
  {
   "cell_type": "code",
   "execution_count": 151,
   "id": "6a2229f8",
   "metadata": {},
   "outputs": [],
   "source": [
    "df.drop(columns=['probability'],inplace=True)"
   ]
  },
  {
   "cell_type": "code",
   "execution_count": 152,
   "id": "99fd1011",
   "metadata": {},
   "outputs": [
    {
     "data": {
      "text/html": [
       "<div>\n",
       "<style scoped>\n",
       "    .dataframe tbody tr th:only-of-type {\n",
       "        vertical-align: middle;\n",
       "    }\n",
       "\n",
       "    .dataframe tbody tr th {\n",
       "        vertical-align: top;\n",
       "    }\n",
       "\n",
       "    .dataframe thead th {\n",
       "        text-align: right;\n",
       "    }\n",
       "</style>\n",
       "<table border=\"1\" class=\"dataframe\">\n",
       "  <thead>\n",
       "    <tr style=\"text-align: right;\">\n",
       "      <th></th>\n",
       "      <th>index</th>\n",
       "      <th>name</th>\n",
       "      <th>gender</th>\n",
       "    </tr>\n",
       "  </thead>\n",
       "  <tbody>\n",
       "    <tr>\n",
       "      <th>0</th>\n",
       "      <td>0</td>\n",
       "      <td>Aaban</td>\n",
       "      <td>M</td>\n",
       "    </tr>\n",
       "    <tr>\n",
       "      <th>1</th>\n",
       "      <td>1</td>\n",
       "      <td>Aabha</td>\n",
       "      <td>F</td>\n",
       "    </tr>\n",
       "    <tr>\n",
       "      <th>2</th>\n",
       "      <td>2</td>\n",
       "      <td>Aabid</td>\n",
       "      <td>M</td>\n",
       "    </tr>\n",
       "    <tr>\n",
       "      <th>3</th>\n",
       "      <td>3</td>\n",
       "      <td>Aabriella</td>\n",
       "      <td>F</td>\n",
       "    </tr>\n",
       "    <tr>\n",
       "      <th>4</th>\n",
       "      <td>4</td>\n",
       "      <td>Aada</td>\n",
       "      <td>F</td>\n",
       "    </tr>\n",
       "    <tr>\n",
       "      <th>...</th>\n",
       "      <td>...</td>\n",
       "      <td>...</td>\n",
       "      <td>...</td>\n",
       "    </tr>\n",
       "    <tr>\n",
       "      <th>95021</th>\n",
       "      <td>95021</td>\n",
       "      <td>Zyvon</td>\n",
       "      <td>M</td>\n",
       "    </tr>\n",
       "    <tr>\n",
       "      <th>95022</th>\n",
       "      <td>95022</td>\n",
       "      <td>Zyyanna</td>\n",
       "      <td>F</td>\n",
       "    </tr>\n",
       "    <tr>\n",
       "      <th>95023</th>\n",
       "      <td>95023</td>\n",
       "      <td>Zyyon</td>\n",
       "      <td>M</td>\n",
       "    </tr>\n",
       "    <tr>\n",
       "      <th>95024</th>\n",
       "      <td>95024</td>\n",
       "      <td>Zzyzx</td>\n",
       "      <td>M</td>\n",
       "    </tr>\n",
       "    <tr>\n",
       "      <th>95025</th>\n",
       "      <td>95025</td>\n",
       "      <td>undefined</td>\n",
       "      <td>F</td>\n",
       "    </tr>\n",
       "  </tbody>\n",
       "</table>\n",
       "<p>95026 rows × 3 columns</p>\n",
       "</div>"
      ],
      "text/plain": [
       "       index       name gender\n",
       "0          0      Aaban      M\n",
       "1          1      Aabha      F\n",
       "2          2      Aabid      M\n",
       "3          3  Aabriella      F\n",
       "4          4       Aada      F\n",
       "...      ...        ...    ...\n",
       "95021  95021      Zyvon      M\n",
       "95022  95022    Zyyanna      F\n",
       "95023  95023      Zyyon      M\n",
       "95024  95024      Zzyzx      M\n",
       "95025  95025  undefined      F\n",
       "\n",
       "[95026 rows x 3 columns]"
      ]
     },
     "execution_count": 152,
     "metadata": {},
     "output_type": "execute_result"
    }
   ],
   "source": [
    "df"
   ]
  },
  {
   "cell_type": "code",
   "execution_count": 153,
   "id": "07cf4dff",
   "metadata": {},
   "outputs": [
    {
     "name": "stdout",
     "output_type": "stream",
     "text": [
      "<class 'pandas.core.frame.DataFrame'>\n",
      "RangeIndex: 95026 entries, 0 to 95025\n",
      "Data columns (total 3 columns):\n",
      " #   Column  Non-Null Count  Dtype \n",
      "---  ------  --------------  ----- \n",
      " 0   index   95026 non-null  int64 \n",
      " 1   name    95026 non-null  object\n",
      " 2   gender  95026 non-null  object\n",
      "dtypes: int64(1), object(2)\n",
      "memory usage: 2.2+ MB\n"
     ]
    }
   ],
   "source": [
    "df.info()"
   ]
  },
  {
   "cell_type": "code",
   "execution_count": 155,
   "id": "23c4844a",
   "metadata": {},
   "outputs": [
    {
     "data": {
      "text/plain": [
       "index     0\n",
       "name      0\n",
       "gender    0\n",
       "dtype: int64"
      ]
     },
     "execution_count": 155,
     "metadata": {},
     "output_type": "execute_result"
    }
   ],
   "source": [
    "df.isnull().sum()"
   ]
  },
  {
   "cell_type": "code",
   "execution_count": 156,
   "id": "4b9af004",
   "metadata": {},
   "outputs": [
    {
     "data": {
      "text/plain": [
       "0"
      ]
     },
     "execution_count": 156,
     "metadata": {},
     "output_type": "execute_result"
    }
   ],
   "source": [
    "df.duplicated().sum()"
   ]
  },
  {
   "cell_type": "code",
   "execution_count": 157,
   "id": "9f872ee8",
   "metadata": {},
   "outputs": [
    {
     "data": {
      "text/plain": [
       "(95026, 3)"
      ]
     },
     "execution_count": 157,
     "metadata": {},
     "output_type": "execute_result"
    }
   ],
   "source": [
    "df.shape"
   ]
  },
  {
   "cell_type": "code",
   "execution_count": 159,
   "id": "3e27f6d7",
   "metadata": {},
   "outputs": [
    {
     "name": "stdout",
     "output_type": "stream",
     "text": [
      "95026\n"
     ]
    }
   ],
   "source": [
    "print(len(df['name'].unique()))"
   ]
  },
  {
   "cell_type": "code",
   "execution_count": 160,
   "id": "5a72c7c3",
   "metadata": {},
   "outputs": [
    {
     "data": {
      "text/plain": [
       "Text(0.5, 1.0, 'No. of Male and Female in the data')"
      ]
     },
     "execution_count": 160,
     "metadata": {},
     "output_type": "execute_result"
    },
    {
     "data": {
      "image/png": "[encoded data removed]",
      "text/plain": [
       "<Figure size 640x480 with 1 Axes>"
      ]
     },
     "metadata": {},
     "output_type": "display_data"
    }
   ],
   "source": [
    "sns.countplot(x='gender',data=df)\n",
    "plt.title(\"No. of Male and Female in the data\")"
   ]
  },
  {
   "cell_type": "code",
   "execution_count": 163,
   "id": "e060cdbb",
   "metadata": {},
   "outputs": [
    {
     "name": "stdout",
     "output_type": "stream",
     "text": [
      "{'A': 9944, 'B': 3408, 'C': 5661, 'D': 6495, 'E': 3558, 'F': 1264, 'G': 2225, 'H': 1991, 'I': 1477, 'J': 7702, 'K': 7062, 'L': 5643, 'M': 7353, 'N': 3360, 'O': 1230, 'P': 1548, 'Q': 534, 'R': 4291, 'S': 7792, 'T': 6203, 'U': 286, 'V': 1459, 'W': 996, 'X': 250, 'Y': 1510, 'Z': 1783}\n"
     ]
    }
   ],
   "source": [
    "alphabets= ['A','B','C','D','E','F','G','H','I','J','K','L','M','N','O','P',\n",
    "\n",
    "            'Q','R','S','T','U','V','W','X','Y','Z']\n",
    "\n",
    "starting_letter={}\n",
    "\n",
    "for i in alphabets:\n",
    "    starting_letter[i]=len(df[df['name'].str.startswith(i)])\n",
    "    \n",
    "print(starting_letter)"
   ]
  },
  {
   "cell_type": "code",
   "execution_count": 164,
   "id": "a1d21af9",
   "metadata": {},
   "outputs": [
    {
     "data": {
      "text/plain": [
       "Text(0.5, 1.0, 'Number of names starting with each letter')"
      ]
     },
     "execution_count": 164,
     "metadata": {},
     "output_type": "execute_result"
    },
    {
     "data": {
      "image/png": "[encoded data removed]",
      "text/plain": [
       "<Figure size 640x480 with 1 Axes>"
      ]
     },
     "metadata": {},
     "output_type": "display_data"
    }
   ],
   "source": [
    "\n",
    "\n",
    "plt.bar(starting_letter.keys(),starting_letter.values())\n",
    "plt.xlabel(\"Starting alphabets\")\n",
    "plt.ylabel(\"No of Names\")\n",
    "plt.title(\"Number of names starting with each letter\")"
   ]
  },
  {
   "cell_type": "code",
   "execution_count": 165,
   "id": "bc165f8f",
   "metadata": {},
   "outputs": [
    {
     "name": "stdout",
     "output_type": "stream",
     "text": [
      "{'a': 28031, 'b': 289, 'c': 281, 'd': 1678, 'e': 14901, 'f': 176, 'g': 381, 'h': 5473, 'i': 4845, 'j': 124, 'k': 919, 'l': 4439, 'm': 1048, 'n': 15141, 'o': 2556, 'p': 124, 'q': 67, 'r': 2997, 't': 1403, 'u': 433, 'v': 137, 'w': 127, 'x': 164, 'y': 5125, 'z': 496}\n"
     ]
    }
   ],
   "source": [
    "alphabets2= ['a','b','c','d','e','f','g','h','i','j','k','l','m','n','o','p',\n",
    "\n",
    "            'q','r','e','t','u','v','w','x','y','z']\n",
    "\n",
    "ending_letter={}\n",
    "\n",
    "for i in alphabets2:\n",
    "    ending_letter[i]=len(df[df['name'].str.endswith(i)])\n",
    "    \n",
    "print(ending_letter)"
   ]
  },
  {
   "cell_type": "code",
   "execution_count": 166,
   "id": "78fbb82d",
   "metadata": {},
   "outputs": [
    {
     "data": {
      "text/plain": [
       "Text(0.5, 1.0, 'Number of names ending with each letter')"
      ]
     },
     "execution_count": 166,
     "metadata": {},
     "output_type": "execute_result"
    },
    {
     "data": {
      "image/png": "[encoded data removed]",
      "text/plain": [
       "<Figure size 640x480 with 1 Axes>"
      ]
     },
     "metadata": {},
     "output_type": "display_data"
    }
   ],
   "source": [
    "plt.bar(ending_letter.keys(),ending_letter.values())\n",
    "plt.xlabel(\"Ending alphabets\")\n",
    "plt.ylabel(\"No of Names\")\n",
    "plt.title(\"Number of names ending with each letter\")"
   ]
  },
  {
   "cell_type": "markdown",
   "id": "7c0dc7be",
   "metadata": {},
   "source": [
    "# Model BUILDING"
   ]
  },
  {
   "cell_type": "code",
   "execution_count": 168,
   "id": "8eee716f",
   "metadata": {},
   "outputs": [],
   "source": [
    "X=list(df['name'])\n",
    "y=list(df['gender'])"
   ]
  },
  {
   "cell_type": "code",
   "execution_count": null,
   "id": "29c2476d",
   "metadata": {},
   "outputs": [],
   "source": []
  },
  {
   "cell_type": "code",
   "execution_count": 169,
   "id": "1e20317d",
   "metadata": {},
   "outputs": [],
   "source": [
    "from sklearn.preprocessing import LabelEncoder\n",
    "\n",
    "le=LabelEncoder()\n",
    "\n",
    "y=le.fit_transform(y)"
   ]
  },
  {
   "cell_type": "code",
   "execution_count": 170,
   "id": "ada22036",
   "metadata": {},
   "outputs": [
    {
     "data": {
      "text/plain": [
       "array([1, 0, 1, ..., 1, 1, 0], dtype=int64)"
      ]
     },
     "execution_count": 170,
     "metadata": {},
     "output_type": "execute_result"
    }
   ],
   "source": [
    "y"
   ]
  },
  {
   "cell_type": "code",
   "execution_count": 171,
   "id": "d941eea5",
   "metadata": {},
   "outputs": [],
   "source": [
    "from sklearn.feature_extraction.text import CountVectorizer\n",
    "\n",
    "cv=CountVectorizer(analyzer='char')\n",
    "\n",
    "X=cv.fit_transform(X).toarray()"
   ]
  },
  {
   "cell_type": "code",
   "execution_count": 172,
   "id": "fb43ed38",
   "metadata": {},
   "outputs": [
    {
     "data": {
      "text/plain": [
       "(95026, 26)"
      ]
     },
     "execution_count": 172,
     "metadata": {},
     "output_type": "execute_result"
    }
   ],
   "source": [
    "X.shape"
   ]
  },
  {
   "cell_type": "code",
   "execution_count": 173,
   "id": "fe96bc1d",
   "metadata": {},
   "outputs": [],
   "source": [
    "from sklearn.model_selection import train_test_split\n",
    "\n",
    "X_train, X_test, y_train, y_test = train_test_split(X, y, test_size=0.33, random_state=42)\n",
    "\n"
   ]
  },
  {
   "cell_type": "code",
   "execution_count": 174,
   "id": "1285ab5d",
   "metadata": {},
   "outputs": [],
   "source": [
    "from sklearn.metrics import confusion_matrix,accuracy_score"
   ]
  },
  {
   "cell_type": "code",
   "execution_count": 175,
   "id": "e4a9a571",
   "metadata": {},
   "outputs": [
    {
     "name": "stdout",
     "output_type": "stream",
     "text": [
      "0.7242577888325521\n"
     ]
    }
   ],
   "source": [
    "from sklearn.linear_model import LogisticRegression\n",
    "\n",
    "LR_model= LogisticRegression()\n",
    "\n",
    "LR_model.fit(X_train,y_train)\n",
    "\n",
    "LR_y_pred = LR_model.predict(X_test)\n",
    "\n",
    "print(accuracy_score(y_test,LR_y_pred))"
   ]
  },
  {
   "cell_type": "code",
   "execution_count": 176,
   "id": "cce0a24e",
   "metadata": {},
   "outputs": [
    {
     "data": {
      "text/plain": [
       "array([[1, 0, 1, ..., 0, 0, 0],\n",
       "       [1, 0, 0, ..., 0, 1, 0],\n",
       "       [0, 0, 0, ..., 0, 1, 0],\n",
       "       ...,\n",
       "       [0, 0, 0, ..., 0, 0, 0],\n",
       "       [0, 0, 0, ..., 0, 0, 0],\n",
       "       [1, 0, 0, ..., 0, 1, 0]], dtype=int64)"
      ]
     },
     "execution_count": 176,
     "metadata": {},
     "output_type": "execute_result"
    }
   ],
   "source": [
    "X_test"
   ]
  },
  {
   "cell_type": "code",
   "execution_count": 177,
   "id": "8b10c833",
   "metadata": {},
   "outputs": [
    {
     "name": "stdout",
     "output_type": "stream",
     "text": [
      "0.6994483242450333\n"
     ]
    }
   ],
   "source": [
    "from sklearn.naive_bayes import MultinomialNB\n",
    "\n",
    "NB_model= MultinomialNB()\n",
    "\n",
    "NB_model.fit(X_train,y_train)\n",
    "\n",
    "NB_y_pred = NB_model.predict(X_test)\n",
    "\n",
    "print(accuracy_score(y_test,NB_y_pred))"
   ]
  },
  {
   "cell_type": "code",
   "execution_count": 178,
   "id": "f7ea5a35",
   "metadata": {},
   "outputs": [
    {
     "name": "stderr",
     "output_type": "stream",
     "text": [
      "C:\\Users\\Hp\\AppData\\Local\\Programs\\Python\\Python310\\lib\\site-packages\\xgboost\\sklearn.py:1395: UserWarning: `use_label_encoder` is deprecated in 1.7.0.\n",
      "  warnings.warn(\"`use_label_encoder` is deprecated in 1.7.0.\")\n"
     ]
    },
    {
     "name": "stdout",
     "output_type": "stream",
     "text": [
      "0.7747058260786377\n"
     ]
    }
   ],
   "source": [
    "from xgboost import XGBClassifier\n",
    "\n",
    "XGB_model = XGBClassifier(use_label_encoder= False)\n",
    "\n",
    "XGB_model.fit(X_train,y_train)\n",
    "\n",
    "XGB_y_pred = XGB_model.predict(X_test)\n",
    "\n",
    "print(accuracy_score(y_test,XGB_y_pred))"
   ]
  },
  {
   "cell_type": "code",
   "execution_count": 179,
   "id": "c826df94",
   "metadata": {},
   "outputs": [],
   "source": [
    "import sklearn.metrics as metrics"
   ]
  },
  {
   "cell_type": "code",
   "execution_count": null,
   "id": "10705fa9",
   "metadata": {},
   "outputs": [],
   "source": []
  },
  {
   "cell_type": "code",
   "execution_count": 180,
   "id": "68500d7b",
   "metadata": {},
   "outputs": [],
   "source": [
    "from tensorflow.keras.models import Model\n",
    "from keras.layers import Embedding\n",
    "from tensorflow.keras.layers import Dense, Dropout, Flatten, Input, LeakyReLU\n",
    "from tensorflow.keras.layers import BatchNormalization, Activation, Conv2D \n",
    "from tensorflow.keras.models import Sequential\n",
    "from tensorflow.keras.layers import Dense, Flatten, MaxPooling2D, Dense, Dropout\n",
    "from tensorflow.keras.layers import LSTM"
   ]
  },
  {
   "cell_type": "code",
   "execution_count": 183,
   "id": "83991e16",
   "metadata": {},
   "outputs": [
    {
     "name": "stdout",
     "output_type": "stream",
     "text": [
      "Model: \"sequential_10\"\n",
      "_________________________________________________________________\n",
      " Layer (type)                Output Shape              Param #   \n",
      "=================================================================\n",
      " embedding_5 (Embedding)     (None, 26, 64)            64000     \n",
      "                                                                 \n",
      " dropout_12 (Dropout)        (None, 26, 64)            0         \n",
      "                                                                 \n",
      " lstm_4 (LSTM)               (None, 100)               66000     \n",
      "                                                                 \n",
      " dropout_13 (Dropout)        (None, 100)               0         \n",
      "                                                                 \n",
      " dense_8 (Dense)             (None, 64)                6464      \n",
      "                                                                 \n",
      " dropout_14 (Dropout)        (None, 64)                0         \n",
      "                                                                 \n",
      " dense_9 (Dense)             (None, 1)                 65        \n",
      "                                                                 \n",
      "=================================================================\n",
      "Total params: 136,529\n",
      "Trainable params: 136,529\n",
      "Non-trainable params: 0\n",
      "_________________________________________________________________\n"
     ]
    }
   ],
   "source": [
    "max_word=1000\n",
    "max_len=26\n",
    "\n",
    "model=Sequential()\n",
    "\n",
    "model.add(Embedding(1000, 64,input_length=26))\n",
    "model.add(Dropout(0.3))\n",
    "model.add(LSTM(100))\n",
    "model.add(Dropout(0.3))\n",
    "model.add(Dense(64,activation='relu'))\n",
    "model.add(Dropout(0.3))\n",
    "model.add(Dense(1,activation='sigmoid'))\n",
    "\n",
    "\n",
    "model.compile(loss='binary_crossentropy',optimizer='adam',metrics=['accuracy'])\n",
    "\n",
    "model.summary()"
   ]
  },
  {
   "cell_type": "code",
   "execution_count": 184,
   "id": "9b06c0bd",
   "metadata": {},
   "outputs": [
    {
     "name": "stdout",
     "output_type": "stream",
     "text": [
      "Epoch 1/50\n",
      "1990/1990 [==============================] - 56s 27ms/step - loss: 0.6167 - accuracy: 0.6624 - val_loss: 0.5937 - val_accuracy: 0.6885\n",
      "Epoch 2/50\n",
      "1990/1990 [==============================] - 52s 26ms/step - loss: 0.5843 - accuracy: 0.6925 - val_loss: 0.5689 - val_accuracy: 0.7009\n",
      "Epoch 3/50\n",
      "1990/1990 [==============================] - 53s 26ms/step - loss: 0.5670 - accuracy: 0.7061 - val_loss: 0.5571 - val_accuracy: 0.7128\n",
      "Epoch 4/50\n",
      "1990/1990 [==============================] - 52s 26ms/step - loss: 0.5533 - accuracy: 0.7157 - val_loss: 0.5488 - val_accuracy: 0.7221\n",
      "Epoch 5/50\n",
      "1990/1990 [==============================] - 41s 21ms/step - loss: 0.5414 - accuracy: 0.7239 - val_loss: 0.5322 - val_accuracy: 0.7314\n",
      "Epoch 6/50\n",
      "1990/1990 [==============================] - 26s 13ms/step - loss: 0.5331 - accuracy: 0.7300 - val_loss: 0.5355 - val_accuracy: 0.7290\n",
      "Epoch 7/50\n",
      "1990/1990 [==============================] - 26s 13ms/step - loss: 0.5261 - accuracy: 0.7346 - val_loss: 0.5203 - val_accuracy: 0.7403\n",
      "Epoch 8/50\n",
      "1990/1990 [==============================] - 25s 13ms/step - loss: 0.5184 - accuracy: 0.7389 - val_loss: 0.5227 - val_accuracy: 0.7404\n",
      "Epoch 9/50\n",
      "1990/1990 [==============================] - 25s 13ms/step - loss: 0.5116 - accuracy: 0.7448 - val_loss: 0.5168 - val_accuracy: 0.7411\n",
      "Epoch 10/50\n",
      "1990/1990 [==============================] - 25s 13ms/step - loss: 0.5053 - accuracy: 0.7483 - val_loss: 0.5086 - val_accuracy: 0.7443\n",
      "Epoch 11/50\n",
      "1990/1990 [==============================] - 25s 13ms/step - loss: 0.5001 - accuracy: 0.7509 - val_loss: 0.5132 - val_accuracy: 0.7444\n",
      "Epoch 12/50\n",
      "1990/1990 [==============================] - 26s 13ms/step - loss: 0.4948 - accuracy: 0.7556 - val_loss: 0.5076 - val_accuracy: 0.7448\n",
      "Epoch 13/50\n",
      "1990/1990 [==============================] - 26s 13ms/step - loss: 0.4900 - accuracy: 0.7587 - val_loss: 0.5070 - val_accuracy: 0.7470\n",
      "Epoch 14/50\n",
      "1990/1990 [==============================] - 25s 13ms/step - loss: 0.4838 - accuracy: 0.7626 - val_loss: 0.5084 - val_accuracy: 0.7454\n",
      "Epoch 15/50\n",
      "1990/1990 [==============================] - 25s 13ms/step - loss: 0.4782 - accuracy: 0.7660 - val_loss: 0.5041 - val_accuracy: 0.7480\n",
      "Epoch 16/50\n",
      "1990/1990 [==============================] - 25s 13ms/step - loss: 0.4740 - accuracy: 0.7680 - val_loss: 0.5063 - val_accuracy: 0.7516\n",
      "Epoch 17/50\n",
      "1990/1990 [==============================] - 25s 13ms/step - loss: 0.4704 - accuracy: 0.7707 - val_loss: 0.5012 - val_accuracy: 0.7492\n",
      "Epoch 18/50\n",
      "1990/1990 [==============================] - 25s 13ms/step - loss: 0.4648 - accuracy: 0.7741 - val_loss: 0.5073 - val_accuracy: 0.7487\n",
      "Epoch 19/50\n",
      "1990/1990 [==============================] - 25s 12ms/step - loss: 0.4613 - accuracy: 0.7769 - val_loss: 0.5101 - val_accuracy: 0.7504\n",
      "Epoch 20/50\n",
      "1990/1990 [==============================] - 25s 12ms/step - loss: 0.4563 - accuracy: 0.7795 - val_loss: 0.5021 - val_accuracy: 0.7509\n",
      "Epoch 21/50\n",
      "1990/1990 [==============================] - 25s 13ms/step - loss: 0.4518 - accuracy: 0.7824 - val_loss: 0.5027 - val_accuracy: 0.7519\n",
      "Epoch 22/50\n",
      "1990/1990 [==============================] - 29s 15ms/step - loss: 0.4494 - accuracy: 0.7834 - val_loss: 0.5069 - val_accuracy: 0.7505\n",
      "Epoch 23/50\n",
      "1990/1990 [==============================] - 28s 14ms/step - loss: 0.4444 - accuracy: 0.7852 - val_loss: 0.5081 - val_accuracy: 0.7531\n",
      "Epoch 24/50\n",
      "1990/1990 [==============================] - 27s 13ms/step - loss: 0.4402 - accuracy: 0.7872 - val_loss: 0.5081 - val_accuracy: 0.7540\n",
      "Epoch 25/50\n",
      "1990/1990 [==============================] - 26s 13ms/step - loss: 0.4348 - accuracy: 0.7913 - val_loss: 0.5144 - val_accuracy: 0.7531\n",
      "Epoch 26/50\n",
      "1990/1990 [==============================] - 27s 13ms/step - loss: 0.4314 - accuracy: 0.7947 - val_loss: 0.5240 - val_accuracy: 0.7470\n",
      "Epoch 27/50\n",
      "1990/1990 [==============================] - 26s 13ms/step - loss: 0.4273 - accuracy: 0.7956 - val_loss: 0.5219 - val_accuracy: 0.7495\n",
      "Epoch 28/50\n",
      "1990/1990 [==============================] - 26s 13ms/step - loss: 0.4237 - accuracy: 0.7962 - val_loss: 0.5143 - val_accuracy: 0.7526\n",
      "Epoch 29/50\n",
      "1990/1990 [==============================] - 26s 13ms/step - loss: 0.4201 - accuracy: 0.7991 - val_loss: 0.5118 - val_accuracy: 0.7528\n",
      "Epoch 30/50\n",
      "1990/1990 [==============================] - 26s 13ms/step - loss: 0.4172 - accuracy: 0.8020 - val_loss: 0.5282 - val_accuracy: 0.7541\n",
      "Epoch 31/50\n",
      "1990/1990 [==============================] - 26s 13ms/step - loss: 0.4139 - accuracy: 0.8032 - val_loss: 0.5299 - val_accuracy: 0.7494\n",
      "Epoch 32/50\n",
      "1990/1990 [==============================] - 25s 13ms/step - loss: 0.4108 - accuracy: 0.8051 - val_loss: 0.5160 - val_accuracy: 0.7526\n",
      "Epoch 33/50\n",
      "1990/1990 [==============================] - 26s 13ms/step - loss: 0.4081 - accuracy: 0.8055 - val_loss: 0.5357 - val_accuracy: 0.7500\n",
      "Epoch 34/50\n",
      "1990/1990 [==============================] - 26s 13ms/step - loss: 0.4055 - accuracy: 0.8079 - val_loss: 0.5280 - val_accuracy: 0.7512\n",
      "Epoch 35/50\n",
      "1990/1990 [==============================] - 26s 13ms/step - loss: 0.4029 - accuracy: 0.8088 - val_loss: 0.5356 - val_accuracy: 0.7492\n",
      "Epoch 36/50\n",
      "1990/1990 [==============================] - 26s 13ms/step - loss: 0.3993 - accuracy: 0.8100 - val_loss: 0.5322 - val_accuracy: 0.7530\n",
      "Epoch 37/50\n",
      "1990/1990 [==============================] - 26s 13ms/step - loss: 0.3969 - accuracy: 0.8121 - val_loss: 0.5330 - val_accuracy: 0.7516\n",
      "Epoch 38/50\n",
      "1990/1990 [==============================] - 25s 13ms/step - loss: 0.3953 - accuracy: 0.8127 - val_loss: 0.5335 - val_accuracy: 0.7486\n",
      "Epoch 39/50\n",
      "1990/1990 [==============================] - 26s 13ms/step - loss: 0.3930 - accuracy: 0.8140 - val_loss: 0.5444 - val_accuracy: 0.7502\n",
      "Epoch 40/50\n",
      "1990/1990 [==============================] - 26s 13ms/step - loss: 0.3893 - accuracy: 0.8152 - val_loss: 0.5432 - val_accuracy: 0.7499\n",
      "Epoch 41/50\n",
      "1990/1990 [==============================] - 26s 13ms/step - loss: 0.3868 - accuracy: 0.8166 - val_loss: 0.5405 - val_accuracy: 0.7506\n",
      "Epoch 42/50\n",
      "1990/1990 [==============================] - 25s 13ms/step - loss: 0.3827 - accuracy: 0.8192 - val_loss: 0.5385 - val_accuracy: 0.7501\n",
      "Epoch 43/50\n",
      "1990/1990 [==============================] - 25s 13ms/step - loss: 0.3833 - accuracy: 0.8200 - val_loss: 0.5497 - val_accuracy: 0.7461\n",
      "Epoch 44/50\n",
      "1990/1990 [==============================] - 25s 13ms/step - loss: 0.3816 - accuracy: 0.8201 - val_loss: 0.5525 - val_accuracy: 0.7514\n",
      "Epoch 45/50\n",
      "1990/1990 [==============================] - 26s 13ms/step - loss: 0.3795 - accuracy: 0.8208 - val_loss: 0.5533 - val_accuracy: 0.7510\n",
      "Epoch 46/50\n",
      "1990/1990 [==============================] - 25s 13ms/step - loss: 0.3780 - accuracy: 0.8194 - val_loss: 0.5720 - val_accuracy: 0.7499\n",
      "Epoch 47/50\n",
      "1990/1990 [==============================] - 26s 13ms/step - loss: 0.3748 - accuracy: 0.8224 - val_loss: 0.5456 - val_accuracy: 0.7492\n",
      "Epoch 48/50\n",
      "1990/1990 [==============================] - 26s 13ms/step - loss: 0.3730 - accuracy: 0.8233 - val_loss: 0.5451 - val_accuracy: 0.7505\n",
      "Epoch 49/50\n",
      "1990/1990 [==============================] - 26s 13ms/step - loss: 0.3732 - accuracy: 0.8239 - val_loss: 0.5708 - val_accuracy: 0.7495\n",
      "Epoch 50/50\n",
      "1990/1990 [==============================] - 25s 13ms/step - loss: 0.3683 - accuracy: 0.8256 - val_loss: 0.5801 - val_accuracy: 0.7493\n"
     ]
    },
    {
     "data": {
      "text/plain": [
       "<keras.callbacks.History at 0x22eb82c9660>"
      ]
     },
     "execution_count": 184,
     "metadata": {},
     "output_type": "execute_result"
    }
   ],
   "source": [
    "model.fit(X_train,y_train,epochs=50,batch_size=32,validation_data=(X_test,y_test))"
   ]
  },
  {
   "cell_type": "code",
   "execution_count": 185,
   "id": "af2132cf",
   "metadata": {},
   "outputs": [
    {
     "name": "stdout",
     "output_type": "stream",
     "text": [
      "980/980 [==============================] - 3s 3ms/step - loss: 0.5801 - accuracy: 0.7493\n"
     ]
    },
    {
     "data": {
      "text/plain": [
       "[0.5801493525505066, 0.7492904663085938]"
      ]
     },
     "execution_count": 185,
     "metadata": {},
     "output_type": "execute_result"
    }
   ],
   "source": [
    "model.evaluate(X_test,y_test)"
   ]
  },
  {
   "cell_type": "code",
   "execution_count": 198,
   "id": "efe21a24",
   "metadata": {},
   "outputs": [],
   "source": [
    "def predict(name):\n",
    "    \n",
    "    name_samplevector = cv.transform([name]).toarray()\n",
    "\n",
    "    prediction = model.predict(name_samplevector)\n",
    "\n",
    "    if prediction >=0.5:\n",
    "\n",
    "        out = 'Male ♂'\n",
    "\n",
    "    else:\n",
    "\n",
    "        out = 'Female ♀'\n",
    "        \n",
    "    print(name+' is a '+ out)"
   ]
  },
  {
   "cell_type": "code",
   "execution_count": 247,
   "id": "adda9727",
   "metadata": {},
   "outputs": [
    {
     "name": "stdout",
     "output_type": "stream",
     "text": [
      "1/1 [==============================] - 0s 13ms/step\n",
      "ahana is a Female ♀\n"
     ]
    }
   ],
   "source": [
    "Name='ahana'\n",
    "\n",
    "# name_samplevector = cv.transform([Name]).toarray()\n",
    "\n",
    "predict(Name)"
   ]
  },
  {
   "cell_type": "code",
   "execution_count": null,
   "id": "5f271184",
   "metadata": {},
   "outputs": [],
   "source": []
  }
 ],
 "metadata": {
  "kernelspec": {
   "display_name": "Python 3 (ipykernel)",
   "language": "python",
   "name": "python3"
  },
  "language_info": {
   "codemirror_mode": {
    "name": "ipython",
    "version": 3
   },
   "file_extension": ".py",
   "mimetype": "text/x-python",
   "name": "python",
   "nbconvert_exporter": "python",
   "pygments_lexer": "ipython3",
   "version": "3.10.5"
  }
 },
 "nbformat": 4,
 "nbformat_minor": 5
}
